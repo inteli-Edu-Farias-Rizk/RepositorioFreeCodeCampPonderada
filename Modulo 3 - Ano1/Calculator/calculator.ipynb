{
 "cells": [
  {
   "cell_type": "code",
   "execution_count": null,
   "metadata": {},
   "outputs": [],
   "source": [
    "import numpy as np\n",
    "\n",
    "def calculate(numbers):\n",
    "    # Check if the list contains exactly 9 numbers\n",
    "    if len(numbers) != 9:\n",
    "        raise ValueError(\"List must contain nine numbers.\")\n",
    "\n",
    "    # Convert the list into a 3x3 numpy array\n",
    "    matrix = np.array(numbers).reshape(3, 3)\n",
    "\n",
    "    # Create the dictionary with all required statistics\n",
    "    calculations = {\n",
    "        'mean': [\n",
    "            matrix.mean(axis=0).tolist(),  # Mean along columns\n",
    "            matrix.mean(axis=1).tolist(),  # Mean along rows\n",
    "            matrix.mean()  # Mean of all elements\n",
    "        ],\n",
    "        'variance': [\n",
    "            matrix.var(axis=0).tolist(),  # Variance along columns\n",
    "            matrix.var(axis=1).tolist(),  # Variance along rows\n",
    "            matrix.var()  # Variance of all elements\n",
    "        ],\n",
    "        'standard deviation': [\n",
    "            matrix.std(axis=0).tolist(),  # Standard deviation along columns\n",
    "            matrix.std(axis=1).tolist(),  # Standard deviation along rows\n",
    "            matrix.std()  # Standard deviation of all elements\n",
    "        ],\n",
    "        'max': [\n",
    "            matrix.max(axis=0).tolist(),  # Max along columns\n",
    "            matrix.max(axis=1).tolist(),  # Max along rows\n",
    "            matrix.max()  # Max of all elements\n",
    "        ],\n",
    "        'min': [\n",
    "            matrix.min(axis=0).tolist(),  # Min along columns\n",
    "            matrix.min(axis=1).tolist(),  # Min along rows\n",
    "            matrix.min()  # Min of all elements\n",
    "        ],\n",
    "        'sum': [\n",
    "            matrix.sum(axis=0).tolist(),  # Sum along columns\n",
    "            matrix.sum(axis=1).tolist(),  # Sum along rows\n",
    "            matrix.sum()  # Sum of all elements\n",
    "        ]\n",
    "    }\n",
    "\n",
    "    return calculations\n"
   ]
  }
 ],
 "metadata": {
  "language_info": {
   "name": "python"
  }
 },
 "nbformat": 4,
 "nbformat_minor": 2
}
